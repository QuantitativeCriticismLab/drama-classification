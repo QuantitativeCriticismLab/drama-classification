{
 "cells": [
  {
   "cell_type": "markdown",
   "metadata": {},
   "source": [
    "# Code for creating figures for Aircinn 2020\n",
    "\n",
    "- Following workflow at https://towardsdatascience.com/pca-using-python-scikit-learn-e653f8989e60"
   ]
  },
  {
   "cell_type": "markdown",
   "metadata": {},
   "source": [
    "### Imports"
   ]
  },
  {
   "cell_type": "code",
   "execution_count": 1,
   "metadata": {},
   "outputs": [],
   "source": [
    "import os\n",
    "import pandas as pd \n",
    "import numpy as np\n",
    "import matplotlib.pyplot as plt\n",
    "from sklearn.decomposition import PCA\n",
    "from sklearn.preprocessing import StandardScaler\n",
    "import scipy.cluster.hierarchy\n",
    "%matplotlib inline"
   ]
  },
  {
   "cell_type": "markdown",
   "metadata": {},
   "source": [
    "### Load data"
   ]
  },
  {
   "cell_type": "code",
   "execution_count": 2,
   "metadata": {},
   "outputs": [
    {
     "data": {
      "text/html": [
       "<div>\n",
       "<style scoped>\n",
       "    .dataframe tbody tr th:only-of-type {\n",
       "        vertical-align: middle;\n",
       "    }\n",
       "\n",
       "    .dataframe tbody tr th {\n",
       "        vertical-align: top;\n",
       "    }\n",
       "\n",
       "    .dataframe thead th {\n",
       "        text-align: right;\n",
       "    }\n",
       "</style>\n",
       "<table border=\"1\" class=\"dataframe\">\n",
       "  <thead>\n",
       "    <tr style=\"text-align: right;\">\n",
       "      <th></th>\n",
       "      <th>Personal Pronouns</th>\n",
       "      <th>Demonstrative Pronouns</th>\n",
       "      <th>quidam</th>\n",
       "      <th>Third-Person Pronouns</th>\n",
       "      <th>iste</th>\n",
       "      <th>alius</th>\n",
       "      <th>ipse</th>\n",
       "      <th>idem</th>\n",
       "      <th>priusquam</th>\n",
       "      <th>antequam</th>\n",
       "      <th>...</th>\n",
       "      <th>Gerunds and Gerundives</th>\n",
       "      <th>cum</th>\n",
       "      <th>Conjunctions</th>\n",
       "      <th>Vocatives</th>\n",
       "      <th>Mean Sentence Length</th>\n",
       "      <th>Characters</th>\n",
       "      <th>Words</th>\n",
       "      <th>Text Name</th>\n",
       "      <th>Sentences</th>\n",
       "      <th>target</th>\n",
       "    </tr>\n",
       "  </thead>\n",
       "  <tbody>\n",
       "    <tr>\n",
       "      <th>0</th>\n",
       "      <td>0.01380</td>\n",
       "      <td>0.00915</td>\n",
       "      <td>0.00004</td>\n",
       "      <td>0.00091</td>\n",
       "      <td>0.00036</td>\n",
       "      <td>0.00036</td>\n",
       "      <td>0.00019</td>\n",
       "      <td>0.00036</td>\n",
       "      <td>0.00006</td>\n",
       "      <td>0.0</td>\n",
       "      <td>...</td>\n",
       "      <td>0.00025</td>\n",
       "      <td>0.00025</td>\n",
       "      <td>0.01144</td>\n",
       "      <td>0.00000</td>\n",
       "      <td>48.07959</td>\n",
       "      <td>47,118</td>\n",
       "      <td>9,332</td>\n",
       "      <td>Plautus Amphitruo</td>\n",
       "      <td>980</td>\n",
       "      <td>Plautus</td>\n",
       "    </tr>\n",
       "    <tr>\n",
       "      <th>1</th>\n",
       "      <td>0.01431</td>\n",
       "      <td>0.00793</td>\n",
       "      <td>0.00000</td>\n",
       "      <td>0.00093</td>\n",
       "      <td>0.00062</td>\n",
       "      <td>0.00049</td>\n",
       "      <td>0.00044</td>\n",
       "      <td>0.00034</td>\n",
       "      <td>0.00010</td>\n",
       "      <td>0.0</td>\n",
       "      <td>...</td>\n",
       "      <td>0.00036</td>\n",
       "      <td>0.00039</td>\n",
       "      <td>0.00954</td>\n",
       "      <td>0.00010</td>\n",
       "      <td>43.14206</td>\n",
       "      <td>38,569</td>\n",
       "      <td>7,629</td>\n",
       "      <td>Plautus Asinaria</td>\n",
       "      <td>894</td>\n",
       "      <td>Plautus</td>\n",
       "    </tr>\n",
       "    <tr>\n",
       "      <th>2</th>\n",
       "      <td>0.01617</td>\n",
       "      <td>0.00896</td>\n",
       "      <td>0.00000</td>\n",
       "      <td>0.00068</td>\n",
       "      <td>0.00040</td>\n",
       "      <td>0.00028</td>\n",
       "      <td>0.00012</td>\n",
       "      <td>0.00018</td>\n",
       "      <td>0.00012</td>\n",
       "      <td>0.0</td>\n",
       "      <td>...</td>\n",
       "      <td>0.00018</td>\n",
       "      <td>0.00025</td>\n",
       "      <td>0.01105</td>\n",
       "      <td>0.00009</td>\n",
       "      <td>43.94452</td>\n",
       "      <td>32,475</td>\n",
       "      <td>6,537</td>\n",
       "      <td>Plautus Aulularia</td>\n",
       "      <td>739</td>\n",
       "      <td>Plautus</td>\n",
       "    </tr>\n",
       "    <tr>\n",
       "      <th>3</th>\n",
       "      <td>0.01368</td>\n",
       "      <td>0.01016</td>\n",
       "      <td>0.00002</td>\n",
       "      <td>0.00071</td>\n",
       "      <td>0.00029</td>\n",
       "      <td>0.00027</td>\n",
       "      <td>0.00021</td>\n",
       "      <td>0.00025</td>\n",
       "      <td>0.00010</td>\n",
       "      <td>0.0</td>\n",
       "      <td>...</td>\n",
       "      <td>0.00017</td>\n",
       "      <td>0.00042</td>\n",
       "      <td>0.00995</td>\n",
       "      <td>0.00023</td>\n",
       "      <td>41.08655</td>\n",
       "      <td>47,948</td>\n",
       "      <td>9,443</td>\n",
       "      <td>Plautus Bacchides</td>\n",
       "      <td>1167</td>\n",
       "      <td>Plautus</td>\n",
       "    </tr>\n",
       "    <tr>\n",
       "      <th>4</th>\n",
       "      <td>0.01527</td>\n",
       "      <td>0.01055</td>\n",
       "      <td>0.00000</td>\n",
       "      <td>0.00087</td>\n",
       "      <td>0.00058</td>\n",
       "      <td>0.00048</td>\n",
       "      <td>0.00031</td>\n",
       "      <td>0.00019</td>\n",
       "      <td>0.00005</td>\n",
       "      <td>0.0</td>\n",
       "      <td>...</td>\n",
       "      <td>0.00034</td>\n",
       "      <td>0.00031</td>\n",
       "      <td>0.01250</td>\n",
       "      <td>0.00000</td>\n",
       "      <td>51.20838</td>\n",
       "      <td>41,530</td>\n",
       "      <td>8,297</td>\n",
       "      <td>Plautus Captivi</td>\n",
       "      <td>811</td>\n",
       "      <td>Plautus</td>\n",
       "    </tr>\n",
       "  </tbody>\n",
       "</table>\n",
       "<p>5 rows × 30 columns</p>\n",
       "</div>"
      ],
      "text/plain": [
       "   Personal Pronouns  Demonstrative Pronouns   quidam  Third-Person Pronouns  \\\n",
       "0            0.01380                 0.00915  0.00004                0.00091   \n",
       "1            0.01431                 0.00793  0.00000                0.00093   \n",
       "2            0.01617                 0.00896  0.00000                0.00068   \n",
       "3            0.01368                 0.01016  0.00002                0.00071   \n",
       "4            0.01527                 0.01055  0.00000                0.00087   \n",
       "\n",
       "      iste    alius     ipse     idem  priusquam  antequam  ...  \\\n",
       "0  0.00036  0.00036  0.00019  0.00036    0.00006       0.0  ...   \n",
       "1  0.00062  0.00049  0.00044  0.00034    0.00010       0.0  ...   \n",
       "2  0.00040  0.00028  0.00012  0.00018    0.00012       0.0  ...   \n",
       "3  0.00029  0.00027  0.00021  0.00025    0.00010       0.0  ...   \n",
       "4  0.00058  0.00048  0.00031  0.00019    0.00005       0.0  ...   \n",
       "\n",
       "   Gerunds and Gerundives      cum  Conjunctions  Vocatives  \\\n",
       "0                 0.00025  0.00025       0.01144    0.00000   \n",
       "1                 0.00036  0.00039       0.00954    0.00010   \n",
       "2                 0.00018  0.00025       0.01105    0.00009   \n",
       "3                 0.00017  0.00042       0.00995    0.00023   \n",
       "4                 0.00034  0.00031       0.01250    0.00000   \n",
       "\n",
       "   Mean Sentence Length  Characters  Words          Text Name  Sentences  \\\n",
       "0              48.07959      47,118  9,332  Plautus Amphitruo        980   \n",
       "1              43.14206      38,569  7,629   Plautus Asinaria        894   \n",
       "2              43.94452      32,475  6,537  Plautus Aulularia        739   \n",
       "3              41.08655      47,948  9,443  Plautus Bacchides       1167   \n",
       "4              51.20838      41,530  8,297    Plautus Captivi        811   \n",
       "\n",
       "    target  \n",
       "0  Plautus  \n",
       "1  Plautus  \n",
       "2  Plautus  \n",
       "3  Plautus  \n",
       "4  Plautus  \n",
       "\n",
       "[5 rows x 30 columns]"
      ]
     },
     "execution_count": 2,
     "metadata": {},
     "output_type": "execute_result"
    }
   ],
   "source": [
    "df = pd.read_csv(\"../data/qcl_stylo_data_drama.csv\")\n",
    "df['target'] = df['Text Name'].apply(lambda x: x.split()[0])\n",
    "df = df[(df['target'] == 'Plautus') | (df['target'] == 'Terence')].reset_index(drop=True)\n",
    "df.head()"
   ]
  },
  {
   "cell_type": "markdown",
   "metadata": {},
   "source": [
    "### Build Figure 1: Principal Component Analysis on QCL Stylometric Features"
   ]
  },
  {
   "cell_type": "code",
   "execution_count": 3,
   "metadata": {},
   "outputs": [],
   "source": [
    "# Define features\n",
    "\n",
    "features = ['Personal Pronouns', 'Demonstrative Pronouns', 'quidam',\n",
    "       'Third-Person Pronouns', 'iste', 'alius', 'ipse', 'idem', 'priusquam',\n",
    "       'antequam', 'quominus', 'dum', 'quin', 'ut', 'Conditionals',\n",
    "       'Interrogative Sentences', 'Superlatives', 'atque + Consonant',\n",
    "       'Relative Clauses', 'Mean Length Relative Clauses',\n",
    "       'Gerunds and Gerundives', 'cum', 'Conjunctions', 'Vocatives',\n",
    "       'Mean Sentence Length']"
   ]
  },
  {
   "cell_type": "code",
   "execution_count": 4,
   "metadata": {},
   "outputs": [],
   "source": [
    "# Separate features from target\n",
    "\n",
    "x = df.loc[:, features].values\n",
    "y = df.loc[:, ['target']].values\n",
    "texts = [\" \".join(text.split()[1:]) for text in df.loc[:, 'Text Name'].values.tolist()]"
   ]
  },
  {
   "cell_type": "code",
   "execution_count": 5,
   "metadata": {},
   "outputs": [],
   "source": [
    "# Scale features\n",
    "\n",
    "x = StandardScaler().fit_transform(x)"
   ]
  },
  {
   "cell_type": "code",
   "execution_count": 6,
   "metadata": {},
   "outputs": [],
   "source": [
    "# Run principal component analysis using Scikit Learn\n",
    "\n",
    "pca = PCA(n_components=2)\n",
    "pcs = pca.fit_transform(x)\n",
    "\n",
    "pcs_df = pd.DataFrame(data=pcs, columns=['pc1','pc2'])"
   ]
  },
  {
   "cell_type": "code",
   "execution_count": 7,
   "metadata": {},
   "outputs": [],
   "source": [
    "pc1_variance, pc2_variance = np.round(pca.explained_variance_ratio_ * 100, 2)"
   ]
  },
  {
   "cell_type": "code",
   "execution_count": 8,
   "metadata": {},
   "outputs": [],
   "source": [
    "# Concatenate target and principal components\n",
    "\n",
    "pcs_df = pd.concat([df['target'], pcs_df], axis=1)"
   ]
  },
  {
   "cell_type": "code",
   "execution_count": 9,
   "metadata": {},
   "outputs": [
    {
     "data": {
      "image/png": "[encoded data removed]",
      "text/plain": [
       "<Figure size 936x936 with 1 Axes>"
      ]
     },
     "metadata": {
      "needs_background": "light"
     },
     "output_type": "display_data"
    }
   ],
   "source": [
    "# Build scatterplot for Figure 1\n",
    "\n",
    "fig = plt.figure(figsize=(13,13))\n",
    "ax = fig.add_subplot(1,1,1)\n",
    "ax.set_xlabel(f'PC1 ({pc1_variance}%)', fontsize=16)\n",
    "ax.set_ylabel(f'PC2 ({pc2_variance}%)', fontsize=16)\n",
    "# ax.set_title('Principal Component Analysis (n=2)', fontsize=24)\n",
    "ax.set_xlim(-4, 6.5)\n",
    "targets = ['Plautus', 'Terence']\n",
    "markers = ['o','^']\n",
    "for target, marker in zip(targets, markers):\n",
    "    indicesToKeep = pcs_df['target'] == target\n",
    "    ax.scatter(pcs_df.loc[indicesToKeep, 'pc1'],\n",
    "               pcs_df.loc[indicesToKeep, 'pc2'],\n",
    "               marker = marker,\n",
    "               color = 'k',\n",
    "               s = 50)\n",
    "for x_, y_, t in zip(pcs_df['pc1'], pcs_df['pc2'], texts):\n",
    "    ax.text(x_+.1,y_-.05,t, rotation=0)\n",
    "ax.legend(targets, fontsize = 12)\n",
    "ax.grid()\n",
    "\n",
    "plt.savefig('../figures/fig_1.png', format='png', dpi=600)"
   ]
  },
  {
   "cell_type": "markdown",
   "metadata": {},
   "source": [
    "### Build Figure 2: Dendrogram using QCL Stylometric Features"
   ]
  },
  {
   "cell_type": "code",
   "execution_count": 10,
   "metadata": {},
   "outputs": [
    {
     "data": {
      "image/png": "[encoded data removed]",
      "text/plain": [
       "<Figure size 720x720 with 1 Axes>"
      ]
     },
     "metadata": {
      "needs_background": "light"
     },
     "output_type": "display_data"
    }
   ],
   "source": [
    "# Build dendrogram for Figure 2\n",
    "\n",
    "plt.figure(figsize=(10,10))\n",
    "plt.tight_layout()\n",
    "plt.xlabel(f'Height', fontsize=16)\n",
    "linkage = scipy.cluster.hierarchy.linkage(x, method='ward')\n",
    "scipy.cluster.hierarchy.dendrogram(\n",
    "    linkage,\n",
    "    orientation='left',\n",
    "    leaf_rotation = 0,\n",
    "    labels=texts,\n",
    "    color_threshold=1,\n",
    "    above_threshold_color='k'\n",
    "    );\n",
    "\n",
    "plt.savefig('../figures/fig_2.png', format='png', dpi=600, bbox_inches = \"tight\")"
   ]
  }
 ],
 "metadata": {
  "kernelspec": {
   "display_name": "Python 3",
   "language": "python",
   "name": "python3"
  },
  "language_info": {
   "codemirror_mode": {
    "name": "ipython",
    "version": 3
   },
   "file_extension": ".py",
   "mimetype": "text/x-python",
   "name": "python",
   "nbconvert_exporter": "python",
   "pygments_lexer": "ipython3",
   "version": "3.8.2"
  }
 },
 "nbformat": 4,
 "nbformat_minor": 4
}
