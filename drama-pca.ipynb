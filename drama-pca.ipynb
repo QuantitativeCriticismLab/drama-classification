{
 "cells": [
  {
   "cell_type": "markdown",
   "metadata": {},
   "source": [
    "# Introduction\n",
    "State notebook purpose here"
   ]
  },
  {
   "cell_type": "markdown",
   "metadata": {},
   "source": [
    "### Imports\n",
    "Import libraries and write settings here."
   ]
  },
  {
   "cell_type": "code",
   "execution_count": 36,
   "metadata": {},
   "outputs": [],
   "source": [
    "import pandas as pd \n",
    "import matplotlib.pyplot as plt\n",
    "from sklearn.decomposition import PCA\n",
    "from sklearn.preprocessing import StandardScaler\n",
    "%matplotlib inline"
   ]
  },
  {
   "cell_type": "code",
   "execution_count": 8,
   "metadata": {},
   "outputs": [
    {
     "data": {
      "text/html": [
       "<div>\n",
       "<style scoped>\n",
       "    .dataframe tbody tr th:only-of-type {\n",
       "        vertical-align: middle;\n",
       "    }\n",
       "\n",
       "    .dataframe tbody tr th {\n",
       "        vertical-align: top;\n",
       "    }\n",
       "\n",
       "    .dataframe thead th {\n",
       "        text-align: right;\n",
       "    }\n",
       "</style>\n",
       "<table border=\"1\" class=\"dataframe\">\n",
       "  <thead>\n",
       "    <tr style=\"text-align: right;\">\n",
       "      <th></th>\n",
       "      <th>Personal Pronouns</th>\n",
       "      <th>Demonstrative Pronouns</th>\n",
       "      <th>quidam</th>\n",
       "      <th>Third-Person Pronouns</th>\n",
       "      <th>iste</th>\n",
       "      <th>alius</th>\n",
       "      <th>ipse</th>\n",
       "      <th>idem</th>\n",
       "      <th>priusquam</th>\n",
       "      <th>antequam</th>\n",
       "      <th>quominus</th>\n",
       "      <th>dum</th>\n",
       "      <th>quin</th>\n",
       "      <th>ut</th>\n",
       "      <th>Conditionals</th>\n",
       "      <th>Interrogative Sentences</th>\n",
       "      <th>Superlatives</th>\n",
       "      <th>atque + Consonant</th>\n",
       "      <th>Relative Clauses</th>\n",
       "      <th>Mean Length Relative Clauses</th>\n",
       "      <th>Gerunds and Gerundives</th>\n",
       "      <th>cum</th>\n",
       "      <th>Conjunctions</th>\n",
       "      <th>Vocatives</th>\n",
       "      <th>Mean Sentence Length</th>\n",
       "      <th>Characters</th>\n",
       "      <th>Words</th>\n",
       "      <th>Text Name</th>\n",
       "      <th>Sentences</th>\n",
       "      <th>target</th>\n",
       "    </tr>\n",
       "  </thead>\n",
       "  <tbody>\n",
       "    <tr>\n",
       "      <th>0</th>\n",
       "      <td>0.01380</td>\n",
       "      <td>0.00915</td>\n",
       "      <td>0.00004</td>\n",
       "      <td>0.00091</td>\n",
       "      <td>0.00036</td>\n",
       "      <td>0.00036</td>\n",
       "      <td>0.00019</td>\n",
       "      <td>0.00036</td>\n",
       "      <td>0.00006</td>\n",
       "      <td>0.0</td>\n",
       "      <td>0.00000</td>\n",
       "      <td>0.00023</td>\n",
       "      <td>0.00045</td>\n",
       "      <td>0.00284</td>\n",
       "      <td>0.00223</td>\n",
       "      <td>0.00543</td>\n",
       "      <td>0.00006</td>\n",
       "      <td>0.00004</td>\n",
       "      <td>0.25034</td>\n",
       "      <td>24.85957</td>\n",
       "      <td>0.00025</td>\n",
       "      <td>0.00025</td>\n",
       "      <td>0.01144</td>\n",
       "      <td>0.00000</td>\n",
       "      <td>48.07959</td>\n",
       "      <td>47,118</td>\n",
       "      <td>9,332</td>\n",
       "      <td>Plautus Amphitruo</td>\n",
       "      <td>980</td>\n",
       "      <td>Plautus</td>\n",
       "    </tr>\n",
       "    <tr>\n",
       "      <th>1</th>\n",
       "      <td>0.01431</td>\n",
       "      <td>0.00793</td>\n",
       "      <td>0.00000</td>\n",
       "      <td>0.00093</td>\n",
       "      <td>0.00062</td>\n",
       "      <td>0.00049</td>\n",
       "      <td>0.00044</td>\n",
       "      <td>0.00034</td>\n",
       "      <td>0.00010</td>\n",
       "      <td>0.0</td>\n",
       "      <td>0.00000</td>\n",
       "      <td>0.00029</td>\n",
       "      <td>0.00060</td>\n",
       "      <td>0.00257</td>\n",
       "      <td>0.00306</td>\n",
       "      <td>0.00560</td>\n",
       "      <td>0.00018</td>\n",
       "      <td>0.00008</td>\n",
       "      <td>0.22661</td>\n",
       "      <td>21.48205</td>\n",
       "      <td>0.00036</td>\n",
       "      <td>0.00039</td>\n",
       "      <td>0.00954</td>\n",
       "      <td>0.00010</td>\n",
       "      <td>43.14206</td>\n",
       "      <td>38,569</td>\n",
       "      <td>7,629</td>\n",
       "      <td>Plautus Asinaria</td>\n",
       "      <td>894</td>\n",
       "      <td>Plautus</td>\n",
       "    </tr>\n",
       "    <tr>\n",
       "      <th>2</th>\n",
       "      <td>0.01617</td>\n",
       "      <td>0.00896</td>\n",
       "      <td>0.00000</td>\n",
       "      <td>0.00068</td>\n",
       "      <td>0.00040</td>\n",
       "      <td>0.00028</td>\n",
       "      <td>0.00012</td>\n",
       "      <td>0.00018</td>\n",
       "      <td>0.00012</td>\n",
       "      <td>0.0</td>\n",
       "      <td>0.00000</td>\n",
       "      <td>0.00012</td>\n",
       "      <td>0.00055</td>\n",
       "      <td>0.00262</td>\n",
       "      <td>0.00256</td>\n",
       "      <td>0.00523</td>\n",
       "      <td>0.00015</td>\n",
       "      <td>0.00009</td>\n",
       "      <td>0.23211</td>\n",
       "      <td>24.54268</td>\n",
       "      <td>0.00018</td>\n",
       "      <td>0.00025</td>\n",
       "      <td>0.01105</td>\n",
       "      <td>0.00009</td>\n",
       "      <td>43.94452</td>\n",
       "      <td>32,475</td>\n",
       "      <td>6,537</td>\n",
       "      <td>Plautus Aulularia</td>\n",
       "      <td>739</td>\n",
       "      <td>Plautus</td>\n",
       "    </tr>\n",
       "    <tr>\n",
       "      <th>3</th>\n",
       "      <td>0.01368</td>\n",
       "      <td>0.01016</td>\n",
       "      <td>0.00002</td>\n",
       "      <td>0.00071</td>\n",
       "      <td>0.00029</td>\n",
       "      <td>0.00027</td>\n",
       "      <td>0.00021</td>\n",
       "      <td>0.00025</td>\n",
       "      <td>0.00010</td>\n",
       "      <td>0.0</td>\n",
       "      <td>0.00000</td>\n",
       "      <td>0.00033</td>\n",
       "      <td>0.00031</td>\n",
       "      <td>0.00292</td>\n",
       "      <td>0.00200</td>\n",
       "      <td>0.00644</td>\n",
       "      <td>0.00013</td>\n",
       "      <td>0.00013</td>\n",
       "      <td>0.20882</td>\n",
       "      <td>23.68919</td>\n",
       "      <td>0.00017</td>\n",
       "      <td>0.00042</td>\n",
       "      <td>0.00995</td>\n",
       "      <td>0.00023</td>\n",
       "      <td>41.08655</td>\n",
       "      <td>47,948</td>\n",
       "      <td>9,443</td>\n",
       "      <td>Plautus Bacchides</td>\n",
       "      <td>1167</td>\n",
       "      <td>Plautus</td>\n",
       "    </tr>\n",
       "    <tr>\n",
       "      <th>4</th>\n",
       "      <td>0.01527</td>\n",
       "      <td>0.01055</td>\n",
       "      <td>0.00000</td>\n",
       "      <td>0.00087</td>\n",
       "      <td>0.00058</td>\n",
       "      <td>0.00048</td>\n",
       "      <td>0.00031</td>\n",
       "      <td>0.00019</td>\n",
       "      <td>0.00005</td>\n",
       "      <td>0.0</td>\n",
       "      <td>0.00002</td>\n",
       "      <td>0.00019</td>\n",
       "      <td>0.00036</td>\n",
       "      <td>0.00253</td>\n",
       "      <td>0.00248</td>\n",
       "      <td>0.00409</td>\n",
       "      <td>0.00017</td>\n",
       "      <td>0.00014</td>\n",
       "      <td>0.26708</td>\n",
       "      <td>23.42241</td>\n",
       "      <td>0.00034</td>\n",
       "      <td>0.00031</td>\n",
       "      <td>0.01250</td>\n",
       "      <td>0.00000</td>\n",
       "      <td>51.20838</td>\n",
       "      <td>41,530</td>\n",
       "      <td>8,297</td>\n",
       "      <td>Plautus Captivi</td>\n",
       "      <td>811</td>\n",
       "      <td>Plautus</td>\n",
       "    </tr>\n",
       "  </tbody>\n",
       "</table>\n",
       "</div>"
      ],
      "text/plain": [
       "   Personal Pronouns  Demonstrative Pronouns   quidam  Third-Person Pronouns  \\\n",
       "0            0.01380                 0.00915  0.00004                0.00091   \n",
       "1            0.01431                 0.00793  0.00000                0.00093   \n",
       "2            0.01617                 0.00896  0.00000                0.00068   \n",
       "3            0.01368                 0.01016  0.00002                0.00071   \n",
       "4            0.01527                 0.01055  0.00000                0.00087   \n",
       "\n",
       "      iste    alius     ipse     idem  priusquam  antequam  quominus      dum  \\\n",
       "0  0.00036  0.00036  0.00019  0.00036    0.00006       0.0   0.00000  0.00023   \n",
       "1  0.00062  0.00049  0.00044  0.00034    0.00010       0.0   0.00000  0.00029   \n",
       "2  0.00040  0.00028  0.00012  0.00018    0.00012       0.0   0.00000  0.00012   \n",
       "3  0.00029  0.00027  0.00021  0.00025    0.00010       0.0   0.00000  0.00033   \n",
       "4  0.00058  0.00048  0.00031  0.00019    0.00005       0.0   0.00002  0.00019   \n",
       "\n",
       "      quin       ut  Conditionals  Interrogative Sentences  Superlatives  \\\n",
       "0  0.00045  0.00284       0.00223                  0.00543       0.00006   \n",
       "1  0.00060  0.00257       0.00306                  0.00560       0.00018   \n",
       "2  0.00055  0.00262       0.00256                  0.00523       0.00015   \n",
       "3  0.00031  0.00292       0.00200                  0.00644       0.00013   \n",
       "4  0.00036  0.00253       0.00248                  0.00409       0.00017   \n",
       "\n",
       "   atque + Consonant  Relative Clauses  Mean Length Relative Clauses  \\\n",
       "0            0.00004           0.25034                      24.85957   \n",
       "1            0.00008           0.22661                      21.48205   \n",
       "2            0.00009           0.23211                      24.54268   \n",
       "3            0.00013           0.20882                      23.68919   \n",
       "4            0.00014           0.26708                      23.42241   \n",
       "\n",
       "   Gerunds and Gerundives      cum  Conjunctions  Vocatives  \\\n",
       "0                 0.00025  0.00025       0.01144    0.00000   \n",
       "1                 0.00036  0.00039       0.00954    0.00010   \n",
       "2                 0.00018  0.00025       0.01105    0.00009   \n",
       "3                 0.00017  0.00042       0.00995    0.00023   \n",
       "4                 0.00034  0.00031       0.01250    0.00000   \n",
       "\n",
       "   Mean Sentence Length Characters  Words          Text Name  Sentences  \\\n",
       "0              48.07959     47,118  9,332  Plautus Amphitruo        980   \n",
       "1              43.14206     38,569  7,629   Plautus Asinaria        894   \n",
       "2              43.94452     32,475  6,537  Plautus Aulularia        739   \n",
       "3              41.08655     47,948  9,443  Plautus Bacchides       1167   \n",
       "4              51.20838     41,530  8,297    Plautus Captivi        811   \n",
       "\n",
       "    target  \n",
       "0  Plautus  \n",
       "1  Plautus  \n",
       "2  Plautus  \n",
       "3  Plautus  \n",
       "4  Plautus  "
      ]
     },
     "execution_count": 8,
     "metadata": {},
     "output_type": "execute_result"
    }
   ],
   "source": [
    "df = pd.read_csv(\"../data/qcl_stylo_data_drama.csv\") \n",
    "df['target'] = df['Text Name'].apply(lambda x: x.split()[0])\n",
    "df.head()"
   ]
  },
  {
   "cell_type": "code",
   "execution_count": 11,
   "metadata": {},
   "outputs": [],
   "source": [
    "features = ['Personal Pronouns', 'Demonstrative Pronouns', 'quidam',\n",
    "       'Third-Person Pronouns', 'iste', 'alius', 'ipse', 'idem', 'priusquam',\n",
    "       'antequam', 'quominus', 'dum', 'quin', 'ut', 'Conditionals',\n",
    "       'Interrogative Sentences', 'Superlatives', 'atque + Consonant',\n",
    "       'Relative Clauses', 'Mean Length Relative Clauses',\n",
    "       'Gerunds and Gerundives', 'cum', 'Conjunctions', 'Vocatives',\n",
    "       'Mean Sentence Length']"
   ]
  },
  {
   "cell_type": "code",
   "execution_count": 18,
   "metadata": {},
   "outputs": [],
   "source": [
    "# Separate features from target\n",
    "\n",
    "x = df.loc[:, features].values\n",
    "y = df.loc[:, ['target']].values"
   ]
  },
  {
   "cell_type": "code",
   "execution_count": 19,
   "metadata": {},
   "outputs": [],
   "source": [
    "# Scale features\n",
    "\n",
    "x = StandardScaler().fit_transform(x)"
   ]
  },
  {
   "cell_type": "code",
   "execution_count": 29,
   "metadata": {},
   "outputs": [],
   "source": [
    "# SCIKIT PCA\n",
    "\n",
    "pca = PCA(n_components=2)\n",
    "pcs = pca.fit_transform(x)\n",
    "\n",
    "pcs_df = pd.DataFrame(data=pcs, columns=['pc1','pc2'])\n",
    "\n",
    "# VISUALIZE"
   ]
  },
  {
   "cell_type": "code",
   "execution_count": 30,
   "metadata": {},
   "outputs": [],
   "source": [
    "pcs_df = pd.concat([df['target'], pcs_df], axis=1)"
   ]
  },
  {
   "cell_type": "code",
   "execution_count": 32,
   "metadata": {},
   "outputs": [
    {
     "data": {
      "text/html": [
       "<div>\n",
       "<style scoped>\n",
       "    .dataframe tbody tr th:only-of-type {\n",
       "        vertical-align: middle;\n",
       "    }\n",
       "\n",
       "    .dataframe tbody tr th {\n",
       "        vertical-align: top;\n",
       "    }\n",
       "\n",
       "    .dataframe thead th {\n",
       "        text-align: right;\n",
       "    }\n",
       "</style>\n",
       "<table border=\"1\" class=\"dataframe\">\n",
       "  <thead>\n",
       "    <tr style=\"text-align: right;\">\n",
       "      <th></th>\n",
       "      <th>target</th>\n",
       "      <th>pc1</th>\n",
       "      <th>pc2</th>\n",
       "    </tr>\n",
       "  </thead>\n",
       "  <tbody>\n",
       "    <tr>\n",
       "      <th>0</th>\n",
       "      <td>Plautus</td>\n",
       "      <td>-0.992357</td>\n",
       "      <td>-0.956676</td>\n",
       "    </tr>\n",
       "    <tr>\n",
       "      <th>1</th>\n",
       "      <td>Plautus</td>\n",
       "      <td>-2.186423</td>\n",
       "      <td>-0.257579</td>\n",
       "    </tr>\n",
       "    <tr>\n",
       "      <th>2</th>\n",
       "      <td>Plautus</td>\n",
       "      <td>-1.314321</td>\n",
       "      <td>-2.007904</td>\n",
       "    </tr>\n",
       "    <tr>\n",
       "      <th>3</th>\n",
       "      <td>Plautus</td>\n",
       "      <td>-1.218159</td>\n",
       "      <td>-0.683761</td>\n",
       "    </tr>\n",
       "    <tr>\n",
       "      <th>4</th>\n",
       "      <td>Plautus</td>\n",
       "      <td>-0.816335</td>\n",
       "      <td>-1.510894</td>\n",
       "    </tr>\n",
       "  </tbody>\n",
       "</table>\n",
       "</div>"
      ],
      "text/plain": [
       "    target       pc1       pc2\n",
       "0  Plautus -0.992357 -0.956676\n",
       "1  Plautus -2.186423 -0.257579\n",
       "2  Plautus -1.314321 -2.007904\n",
       "3  Plautus -1.218159 -0.683761\n",
       "4  Plautus -0.816335 -1.510894"
      ]
     },
     "execution_count": 32,
     "metadata": {},
     "output_type": "execute_result"
    }
   ],
   "source": [
    "pcs_df.head()"
   ]
  },
  {
   "cell_type": "code",
   "execution_count": 38,
   "metadata": {},
   "outputs": [
    {
     "data": {
      "text/plain": [
       "Text(0.5, 0, 'PC1')"
      ]
     },
     "execution_count": 38,
     "metadata": {},
     "output_type": "execute_result"
    },
    {
     "data": {
      "text/plain": [
       "Text(0, 0.5, 'PC2')"
      ]
     },
     "execution_count": 38,
     "metadata": {},
     "output_type": "execute_result"
    },
    {
     "data": {
      "text/plain": [
       "Text(0.5, 1.0, 'Principal Component Analysis (n=2)')"
      ]
     },
     "execution_count": 38,
     "metadata": {},
     "output_type": "execute_result"
    },
    {
     "data": {
      "text/plain": [
       "<matplotlib.collections.PathCollection at 0x12b0215e0>"
      ]
     },
     "execution_count": 38,
     "metadata": {},
     "output_type": "execute_result"
    },
    {
     "data": {
      "text/plain": [
       "<matplotlib.collections.PathCollection at 0x12b0217c0>"
      ]
     },
     "execution_count": 38,
     "metadata": {},
     "output_type": "execute_result"
    },
    {
     "data": {
      "text/plain": [
       "<matplotlib.collections.PathCollection at 0x12b021550>"
      ]
     },
     "execution_count": 38,
     "metadata": {},
     "output_type": "execute_result"
    },
    {
     "data": {
      "text/plain": [
       "<matplotlib.legend.Legend at 0x12b000eb0>"
      ]
     },
     "execution_count": 38,
     "metadata": {},
     "output_type": "execute_result"
    },
    {
     "data": {
      "image/png": "[encoded data removed]",
      "text/plain": [
       "<Figure size 576x576 with 1 Axes>"
      ]
     },
     "metadata": {
      "needs_background": "light"
     },
     "output_type": "display_data"
    }
   ],
   "source": [
    "fig = plt.figure(figsize=(8,8))\n",
    "ax = fig.add_subplot(1,1,1)\n",
    "ax.set_xlabel('PC1', fontsize=16)\n",
    "ax.set_ylabel('PC2', fontsize=16)\n",
    "ax.set_title('Principal Component Analysis (n=2)', fontsize=24)\n",
    "\n",
    "targets = ['Plautus', 'Seneca', 'Terence']\n",
    "colors = ['r', 'g', 'b']\n",
    "for target, color in zip(targets, colors):\n",
    "    indicesToKeep = pcs_df['target'] == target\n",
    "    ax.scatter(pcs_df.loc[indicesToKeep, 'pc1'],\n",
    "               pcs_df.loc[indicesToKeep, 'pc2'],\n",
    "               c = color,\n",
    "               s = 50)\n",
    "ax.legend(targets)\n",
    "ax.grid()"
   ]
  },
  {
   "cell_type": "code",
   "execution_count": null,
   "metadata": {},
   "outputs": [],
   "source": []
  }
 ],
 "metadata": {
  "kernelspec": {
   "display_name": "Python 3",
   "language": "python",
   "name": "python3"
  },
  "language_info": {
   "codemirror_mode": {
    "name": "ipython",
    "version": 3
   },
   "file_extension": ".py",
   "mimetype": "text/x-python",
   "name": "python",
   "nbconvert_exporter": "python",
   "pygments_lexer": "ipython3",
   "version": "3.8.2"
  }
 },
 "nbformat": 4,
 "nbformat_minor": 4
}
